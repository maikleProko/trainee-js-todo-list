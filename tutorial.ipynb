{
  "metadata": {
    "kernelspec": {
      "name": "python",
      "display_name": "Python (Pyodide)",
      "language": "python"
    },
    "language_info": {
      "codemirror_mode": {
        "name": "python",
        "version": 3
      },
      "file_extension": ".py",
      "mimetype": "text/x-python",
      "name": "python",
      "nbconvert_exporter": "python",
      "pygments_lexer": "ipython3",
      "version": "3.8"
    }
  },
  "nbformat_minor": 5,
  "nbformat": 4,
  "cells": [
    {
      "cell_type": "markdown",
      "source": "# Причинно-следственный вывод для табличных данных",
      "metadata": {},
      "id": "19a4bf3a"
    },
    {
      "cell_type": "markdown",
      "source": "Причинно-следственный вывод включает в себя нахождение эффекта влияния для конкретного набора переменных, для другой переменной(м.б. с помощью изменения одной из переменных). Например, если A->B->C. Тогда все три переменные могут быть коррелированы, но вмешательство в C не влияет на значения B, поскольку C не является причинным предком B. Но, с другой стороны, вмешательства в A или B, оба влияют на значения C. \n\nХотя существует много различных видов вопросов причинно-следственного вывода, которые могут заинтересовать человека, в настоящее время мы поддерживаем два вида - Средний эффект лечения (ATE) и условный ATE (CATE). В ATE мы воздействуем на один набор переменных с лечебным значением и контрольным значением и оцениваем ожидаемое изменение значения некоторой указанной целевой переменной. Математически,\n\n$$\\texttt{ATE} = \\mathbb{E}[Y | \\texttt{do}(X=x_t)] - \\mathbb{E}[Y | \\texttt{do}(X=x_c)]$$\n\nгде $\\texttt{do}$ обозначает операцию вмешательства (оказания влияния на результат). Другими словами, ATE стремится определить относительную ожидаемую разницу в значении $Y$, когда мы вводим значение $X$, равное $x_t$, по сравнению с тем, когда мы вводим значение $X$, равное $x_c$. Здесь $x_t$ и $x_c$ являются соответственно значением обработки и контрольным значением.\n\nCATE делает аналогичную оценку, но при некотором условии, заданном для набора переменных. Математически,\n\n$$\\texttt{CATE} = \\mathbb{E}[Y | \\texttt{do}(X=x_t), C=c] - \\mathbb{E}[Y | \\texttt{do}(X=x_c), C=c]$$\n\nгде мы ставим условие на некоторый набор переменных $C$, принимающих значение $c$. Обратите внимание здесь, что $X$ влияет на результат, а $C$ - нет.",
      "metadata": {},
      "id": "72f9dd0e"
    },
    {
      "cell_type": "code",
      "source": "import numpy as np\nimport matplotlib\nfrom matplotlib import pyplot as plt\n%matplotlib inline\nimport pickle as pkl\nimport time\nfrom functools import partial\n\nfrom causalai.data.data_generator import DataGenerator, ConditionalDataGenerator\nfrom causalai.models.tabular.causal_inference import CausalInference\nfrom sklearn.linear_model import LinearRegression\nfrom sklearn.neural_network import MLPRegressor\n\ndef define_treatments(name, t,c):\n    treatment = dict(var_name=name,\n                    treatment_value=t,\n                    control_value=c)\n    return treatment\n\n",
      "metadata": {},
      "execution_count": 1,
      "outputs": [],
      "id": "9ae42142"
    },
    {
      "cell_type": "markdown",
      "source": "## Непрерывные данные",
      "metadata": {},
      "id": "a6aaeb8a"
    },
    {
      "cell_type": "markdown",
      "source": "### Средний лечебный эффект (ATE)\nДля этого примера мы будем использовать синтетические данные, которые имеют линейную зависимость между переменными данных.",
      "metadata": {},
      "id": "95c7c259"
    },
    {
      "cell_type": "code",
      "source": "fn = lambda x:x\ncoef = 0.1\nsem = {\n        'a': [], \n        'b': [('a', coef, fn), ('f', coef, fn)], \n        'c': [('b', coef, fn), ('f', coef, fn)],\n        'd': [('b', coef, fn), ('g', coef, fn)],\n        'e': [('f', coef, fn)], \n        'f': [],\n        'g': [],\n        }\nT = 1000\ndata, var_names, graph_gt = DataGenerator(sem, T=T, seed=0, discrete=False)\n\ngraph_gt",
      "metadata": {
        "scrolled": true
      },
      "execution_count": 2,
      "outputs": [
        {
          "execution_count": 2,
          "output_type": "execute_result",
          "data": {
            "text/plain": [
              "{'a': [],\n",
              " 'b': ['a', 'f'],\n",
              " 'c': ['b', 'f'],\n",
              " 'd': ['b', 'g'],\n",
              " 'e': ['f'],\n",
              " 'f': [],\n",
              " 'g': []}"
            ]
          },
          "metadata": {}
        }
      ],
      "id": "8bd014f3"
    },
    {
      "cell_type": "code",
      "source": "\n# Notice c does not depend on a if we intervene on b. Hence intervening a has no effect in this case. \n# This can be verified by changing the intervention values of variable a, which should have no impact on the ATE. \n# (see graph_gt above)\nt1='a' \nt2='b'\ntarget = 'c'\ntarget_var = var_names.index(target)\n\nintervention11 = 10*np.ones(T)\nintervention21 = 10*np.ones(T)\nintervention_data1,_,_ = DataGenerator(sem, T=T, seed=0,\n                        intervention={t1:intervention11, t2:intervention21})\n\nintervention12 = -0.*np.ones(T)\nintervention22 = -2.*np.ones(T)\nintervention_data2,_,_ = DataGenerator(sem, T=T, seed=0,\n                        intervention={t1:intervention12, t2:intervention22})\n\n\n\ntrue_effect = (intervention_data1[:,target_var] - intervention_data2[:,target_var]).mean()\nprint(\"True ATE = %.2f\" %true_effect)",
      "metadata": {},
      "execution_count": 3,
      "outputs": [
        {
          "name": "stdout",
          "output_type": "stream",
          "text": "True ATE = 1.20\n"
        }
      ],
      "id": "d7dd42fc"
    },
    {
      "cell_type": "code",
      "source": "\ntic = time.time()\n\n\ntreatments = [define_treatments(t1, intervention11,intervention12),\\\n             define_treatments(t2, intervention21,intervention22)]\n# CausalInference_ = CausalInference(data, var_names, graph_gt,\\\n#         partial(MLPRegressor, hidden_layer_sizes=(100,100)) , False)\nCausalInference_ = CausalInference(data, var_names, graph_gt, LinearRegression , discrete=False)\n\nate, y_treat,y_control = CausalInference_.ate(target, treatments)\nprint(f'Estimated ATE: {ate:.2f}')\ntoc = time.time()\nprint(f'{toc-tic:.2f}s')\n\n",
      "metadata": {
        "scrolled": true
      },
      "execution_count": 4,
      "outputs": [
        {
          "name": "stdout",
          "output_type": "stream",
          "text": "Estimated ATE: 1.02\n\n0.01s\n"
        }
      ],
      "id": "aa42f3af"
    },
    {
      "cell_type": "markdown",
      "source": "### Условный средний экспериментальный эффект (CATE)\n\nДанные генерируются с использованием следующей модели структурных уравнений:\n$$C = \"шум\"(noise)$$\n$$W = C + \"шум\"(noise)$$\n$$X = C*W + \"шум\"(noise)$$\n$$Y = C*X + \"шум\"(noise)$$\n\nВ нашем примере ниже мы будем рассматривать C как переменную условия, X как переменную вмешательства(влияющую переменную) и Y как целевую переменную. Шум, используемый в нашем примере, выбирается из стандартного распределения Гаусса.",
      "metadata": {},
      "id": "fd7be0b2"
    },
    {
      "cell_type": "code",
      "source": "T=2000\ndata, var_names, graph_gt = ConditionalDataGenerator(T=T, data_type='tabular', seed=0, discrete=False)\n# var_names = ['C', 'W', 'X', 'Y']\ntreatment_var='X'\ntarget = 'Y'\ntarget_idx = var_names.index(target)\n\n\nintervention1 = 0.1*np.ones(T, dtype=int)\nintervention_data1,_,_ = ConditionalDataGenerator(T=T, data_type='tabular',\\\n                                    seed=0, intervention={treatment_var:intervention1}, discrete=False)\n\nintervention2 = 0.9*np.ones(T, dtype=int)\nintervention_data2,_,_ = ConditionalDataGenerator(T=T, data_type='tabular',\\\n                                    seed=0, intervention={treatment_var:intervention2}, discrete=False)\ngraph_gt",
      "metadata": {
        "scrolled": true
      },
      "execution_count": 5,
      "outputs": [
        {
          "execution_count": 5,
          "output_type": "execute_result",
          "data": {
            "text/plain": [
              "{'C': [], 'W': ['C'], 'X': ['C', 'W'], 'Y': ['C', 'X']}"
            ]
          },
          "metadata": {}
        }
      ],
      "id": "76ae14ca"
    },
    {
      "cell_type": "code",
      "source": "condition_state=2.1\ndiff = np.abs(data[:,0] - condition_state)\nidx = np.argmin(diff)\nassert diff[idx]<0.1, f'No observational data exists for the conditional variable close to {condition_state}'\n\n\ncate_gt = (intervention_data1[idx,target_idx] - intervention_data2[idx,target_idx])\nprint(f'True CATE: {cate_gt:.2f}')\n\n####\ntreatments = define_treatments(treatment_var, intervention1,intervention2)\nconditions = {'var_name': 'C', 'condition_value': condition_state}\n\ntic = time.time()\nmodel = partial(MLPRegressor, hidden_layer_sizes=(100,100), max_iter=200)\nCausalInference_ = CausalInference(data, var_names, graph_gt, model, discrete=False)#\n\ncate = CausalInference_.cate(target, treatments, conditions, model)\ntoc = time.time()\nprint(f'Estimated CATE: {cate:.2f}')\nprint(f'Time taken: {toc-tic:.2f}s')",
      "metadata": {
        "scrolled": true
      },
      "execution_count": 6,
      "outputs": [
        {
          "name": "stdout",
          "output_type": "stream",
          "text": "True CATE: -1.69\n\nEstimated CATE: -1.71\n\nTime taken: 1.63s\n"
        }
      ],
      "id": "dfaa804b"
    },
    {
      "cell_type": "markdown",
      "source": "## Дискретные данные\n\nПроцедура генерации синтетических данных для приведенных ниже примеров ATE и CATE идентична процедуре, описанной выше для непрерывного случая, за исключением того, что сгенерированные данные являются дискретными в приведенных ниже случаях.",
      "metadata": {},
      "id": "2fcdd21f"
    },
    {
      "cell_type": "markdown",
      "source": "### Средний экспериментальный эффект (ATE)\n Для этого примера мы будем использовать синтетические данные, которые имеют линейную зависимость между переменными данных.",
      "metadata": {},
      "id": "82047133"
    },
    {
      "cell_type": "code",
      "source": "import numpy as np\nimport matplotlib\nfrom matplotlib import pyplot as plt\nimport pickle as pkl\nimport time\nfrom functools import partial\n\nfrom causalai.data.data_generator import DataGenerator, ConditionalDataGenerator\nfrom causalai.models.tabular.causal_inference import CausalInference\nfrom sklearn.linear_model import LinearRegression\nfrom sklearn.neural_network import MLPRegressor\nfrom sklearn.linear_model import LogisticRegression\nfrom sklearn.neural_network import MLPClassifier\nfrom sklearn.tree import DecisionTreeClassifier\n\ndef define_treatments(name, t,c):\n    treatment = dict(var_name=name,\n                    treatment_value=t,\n                    control_value=c)\n    return treatment",
      "metadata": {},
      "execution_count": 7,
      "outputs": [],
      "id": "08a0240a"
    },
    {
      "cell_type": "code",
      "source": "fn = lambda x:x\ncoef = 0.1\nsem = {\n        'a': [], \n        'b': [('a', coef, fn), ('f', coef, fn)], \n        'c': [('b', coef, fn), ('f', coef, fn)],\n        'd': [('b', coef, fn), ('b', coef, fn), ('g', coef, fn)],\n        'e': [('f', coef, fn)], \n        'f': [],\n        'g': [],\n        }\nT = 5000\ndata, var_names, graph_gt = DataGenerator(sem, T=T, seed=0, discrete=True, nstates=10)\n\ngraph_gt",
      "metadata": {},
      "execution_count": 8,
      "outputs": [
        {
          "execution_count": 8,
          "output_type": "execute_result",
          "data": {
            "text/plain": [
              "{'a': [],\n",
              " 'b': ['a', 'f'],\n",
              " 'c': ['b', 'f'],\n",
              " 'd': ['b', 'b', 'g'],\n",
              " 'e': ['f'],\n",
              " 'f': [],\n",
              " 'g': []}"
            ]
          },
          "metadata": {}
        }
      ],
      "id": "f6707d01"
    },
    {
      "cell_type": "code",
      "source": "\nt1='a'\nt2='b'\ntarget = 'c'\ntarget_var = var_names.index(target)\n\n# note that states can be [0,1,...,9], so the multiples below must be in this range\nintervention11 = 0*np.ones(T, dtype=int)\nintervention21 = 9*np.ones(T, dtype=int)\nintervention_data1,_,_ = DataGenerator(sem, T=T, seed=0,\n                            intervention={t1: intervention11, t2:intervention21}, discrete=True, nstates=10)\n\nintervention12 = 6*np.ones(T, dtype=int)\nintervention22 = 5*np.ones(T, dtype=int)\nintervention_data2,_,_ = DataGenerator(sem, T=T, seed=0,\n                            intervention={t1:intervention12, t2:intervention22}, discrete=True, nstates=10)\n\ntrue_effect = (intervention_data1[:,target_var] - intervention_data2[:,target_var]).mean()\nprint(\"Ground truth ATE = %.2f\" %true_effect)",
      "metadata": {},
      "execution_count": 9,
      "outputs": [
        {
          "name": "stdout",
          "output_type": "stream",
          "text": "Ground truth ATE = 0.66\n"
        }
      ],
      "id": "5bfed6d4"
    },
    {
      "cell_type": "code",
      "source": "\ntic = time.time()\n\ntreatments = [define_treatments(t1, intervention11,intervention12),\\\n             define_treatments(t2, intervention21,intervention22)]\nmodel = partial(MLPRegressor, hidden_layer_sizes=(100,100), max_iter=200) # LinearRegression\nCausalInference_ = CausalInference(data, var_names, graph_gt, model, discrete=True)#\no, y_treat,y_control = CausalInference_.ate(target, treatments)\nprint(f'Estimated ATE: {o:.2f}')\ntoc = time.time()\nprint(f'Time taken: {toc-tic:.2f}s')\n",
      "metadata": {
        "scrolled": true
      },
      "execution_count": 10,
      "outputs": [
        {
          "name": "stdout",
          "output_type": "stream",
          "text": "Estimated ATE: 0.50\n\nTime taken: 0.98s\n"
        }
      ],
      "id": "35725a0f"
    },
    {
      "cell_type": "markdown",
      "source": "### CATE (conditional ATE)\nFor this example we will use synthetic data that has non-linear dependence among data variables.",
      "metadata": {},
      "id": "37d79ffb"
    },
    {
      "cell_type": "code",
      "source": "T=5000\ndata, var_names, graph_gt = ConditionalDataGenerator(T=T, data_type='tabular', seed=0, discrete=True, nstates=10)\n# var_names = ['C', 'W', 'X', 'Y']\n\ntreatment_var='X'\ntarget = 'Y'\ntarget_idx = var_names.index(target)\n\n# note that states can be [0,1,...,9], so the multiples below must be in this range\nintervention1 = 1*np.ones(T, dtype=int)\nintervention_data1,_,_ = ConditionalDataGenerator(T=T, data_type='tabular',\\\n                                    seed=0, intervention={treatment_var:intervention1}, discrete=True, nstates=10)\n\nintervention2 = 9*np.ones(T, dtype=int)\nintervention_data2,_,_ = ConditionalDataGenerator(T=T, data_type='tabular',\\\n                                    seed=0, intervention={treatment_var:intervention2}, discrete=True, nstates=10)\ngraph_gt",
      "metadata": {},
      "execution_count": 11,
      "outputs": [
        {
          "execution_count": 11,
          "output_type": "execute_result",
          "data": {
            "text/plain": [
              "{'C': [], 'W': ['C'], 'X': ['C', 'W'], 'Y': ['C', 'X']}"
            ]
          },
          "metadata": {}
        }
      ],
      "id": "434903df"
    },
    {
      "cell_type": "code",
      "source": "condition_var = 'C'\ncondition_var_idx = var_names.index(condition_var)\ncondition_state=1\nidx = np.where(data[:,condition_var_idx]==condition_state)[0]\ncate_gt = (intervention_data1[idx,target_idx] - intervention_data2[idx,target_idx]).mean()\nprint(f'True CATE: {cate_gt:.2f}')\n\n####\ntreatments = define_treatments(treatment_var, intervention1,intervention2)\nconditions = {'var_name': condition_var, 'condition_value': condition_state}\n\ntic = time.time()\nmodel = partial(MLPRegressor, hidden_layer_sizes=(100,100), max_iter=200)\nCausalInference_ = CausalInference(data, var_names, graph_gt, model, discrete=True)\n\ncate = CausalInference_.cate(target, treatments, conditions, model)\ntoc = time.time()\nprint(f'Estimated CATE: {cate:.2f}')\nprint(f'Time taken: {toc-tic:.2f}s')",
      "metadata": {},
      "execution_count": 12,
      "outputs": [
        {
          "name": "stdout",
          "output_type": "stream",
          "text": "True CATE: 6.01\n\nEstimated CATE: 6.00\n\nTime taken: 3.66s\n"
        }
      ],
      "id": "697b15c0"
    },
    {
      "cell_type": "code",
      "source": "",
      "metadata": {},
      "execution_count": null,
      "outputs": [],
      "id": "0fc38dce"
    },
    {
      "cell_type": "code",
      "source": "",
      "metadata": {},
      "execution_count": null,
      "outputs": [],
      "id": "77a2c1dc"
    }
  ]
}
